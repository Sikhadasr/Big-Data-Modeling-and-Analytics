{
 "cells": [
  {
   "cell_type": "markdown",
   "metadata": {
    "collapsed": true
   },
   "source": [
    "##     Analyzing Bigrams in Pyspark"
   ]
  },
  {
   "cell_type": "code",
   "execution_count": 1,
   "metadata": {},
   "outputs": [
    {
     "data": {
      "text/html": [
       "\n",
       "            <div>\n",
       "                <p><b>SparkSession - hive</b></p>\n",
       "                \n",
       "        <div>\n",
       "            <p><b>SparkContext</b></p>\n",
       "\n",
       "            <p><a href=\"http://192.168.0.20:4041\">Spark UI</a></p>\n",
       "\n",
       "            <dl>\n",
       "              <dt>Version</dt>\n",
       "                <dd><code>v2.3.0</code></dd>\n",
       "              <dt>Master</dt>\n",
       "                <dd><code>local[*]</code></dd>\n",
       "              <dt>AppName</dt>\n",
       "                <dd><code>PySparkShell</code></dd>\n",
       "            </dl>\n",
       "        </div>\n",
       "        \n",
       "            </div>\n",
       "        "
      ],
      "text/plain": [
       "<pyspark.sql.session.SparkSession at 0x21e04a06f28>"
      ]
     },
     "execution_count": 1,
     "metadata": {},
     "output_type": "execute_result"
    }
   ],
   "source": [
    "spark"
   ]
  },
  {
   "cell_type": "markdown",
   "metadata": {
    "collapsed": true
   },
   "source": [
    "### Create spark context"
   ]
  },
  {
   "cell_type": "code",
   "execution_count": 2,
   "metadata": {},
   "outputs": [],
   "source": [
    "sc = spark.sparkContext"
   ]
  },
  {
   "cell_type": "markdown",
   "metadata": {},
   "source": [
    "### Read the input file"
   ]
  },
  {
   "cell_type": "code",
   "execution_count": 3,
   "metadata": {},
   "outputs": [
    {
     "data": {
      "text/plain": [
       "['The Project Gutenberg EBook of Democracy In America, Volume 1 (of 2), by ',\n",
       " 'Alexis de Toqueville',\n",
       " '',\n",
       " 'This eBook is for the use of anyone anywhere at no cost and with',\n",
       " 'almost no restrictions whatsoever.  You may copy it, give it away or']"
      ]
     },
     "execution_count": 3,
     "metadata": {},
     "output_type": "execute_result"
    }
   ],
   "source": [
    "lines = sc.textFile(\"Filepath\\\\Text2.txt\")\n",
    "lines.take(5)"
   ]
  },
  {
   "cell_type": "markdown",
   "metadata": {
    "collapsed": true
   },
   "source": [
    "###  Define function cleandata for following:\n",
    "\n",
    "1. Convert all words to lowercase\n",
    "\n",
    "2. Remove all double quotes \n",
    "\n",
    "3. Special characters{\",\", \".\", \";\", \"?\", \":\"} to be ignored and removed \n",
    "   from the END of the words \n",
    "   \n",
    "4. If a word ends with \"'s\", then remove \"'s\" from that word.\n",
    "   \n",
    "5. If a word begins with \"*\", then delele that word "
   ]
  },
  {
   "cell_type": "code",
   "execution_count": 4,
   "metadata": {},
   "outputs": [],
   "source": [
    "def cleandata(y):\n",
    "    lst =[]\n",
    "    \n",
    "    for x in y.split():\n",
    "        x= x.strip().lower().replace('\"','')\n",
    "        char_list = [\",\", \".\", \";\", \"?\", \":\"]\n",
    "        if  len(x) > 0 and x[-1] in char_list:\n",
    "            x = x[:-1]  \n",
    "        if len(x)>1 and x[-2:]==\"'s\":\n",
    "            x= x[:-2] \n",
    "        if len(x)>0 and x[0] ==\"*\":\n",
    "            x = '' \n",
    "        lst.append(x)\n",
    "     \n",
    "    return ' '.join(lst)"
   ]
  },
  {
   "cell_type": "markdown",
   "metadata": {},
   "source": [
    "### Apply function cleandata and return clean_lines rdd "
   ]
  },
  {
   "cell_type": "code",
   "execution_count": 5,
   "metadata": {},
   "outputs": [
    {
     "data": {
      "text/plain": [
       "['the project gutenberg ebook of democracy in america volume 1 (of 2) by',\n",
       " 'alexis de toqueville',\n",
       " '',\n",
       " 'this ebook is for the use of anyone anywhere at no cost and with',\n",
       " 'almost no restrictions whatsoever you may copy it give it away or']"
      ]
     },
     "execution_count": 5,
     "metadata": {},
     "output_type": "execute_result"
    }
   ],
   "source": [
    "clean_lines = lines.map(lambda x: cleandata(x))\n",
    "clean_lines.take(5)"
   ]
  },
  {
   "cell_type": "markdown",
   "metadata": {},
   "source": [
    "### Create final_lines rdd to remove empty spaces from clean_lines rdd"
   ]
  },
  {
   "cell_type": "code",
   "execution_count": 6,
   "metadata": {},
   "outputs": [
    {
     "data": {
      "text/plain": [
       "['the project gutenberg ebook of democracy in america volume 1 (of 2) by',\n",
       " 'alexis de toqueville',\n",
       " 'this ebook is for the use of anyone anywhere at no cost and with',\n",
       " 'almost no restrictions whatsoever you may copy it give it away or',\n",
       " 're-use it under the terms of the project gutenberg license included']"
      ]
     },
     "execution_count": 6,
     "metadata": {},
     "output_type": "execute_result"
    }
   ],
   "source": [
    "final_lines = clean_lines.filter(lambda x: x.strip()!='')\n",
    "final_lines.take(5)"
   ]
  },
  {
   "cell_type": "markdown",
   "metadata": {},
   "source": [
    "### Define function bigram"
   ]
  },
  {
   "cell_type": "code",
   "execution_count": 7,
   "metadata": {},
   "outputs": [],
   "source": [
    "def bigram(x):\n",
    "    for i in range(0,len(x)-1):\n",
    "        yield (x[i], x[i+1])"
   ]
  },
  {
   "cell_type": "markdown",
   "metadata": {},
   "source": [
    "### create bigram_words rdd by applying bigram function"
   ]
  },
  {
   "cell_type": "code",
   "execution_count": 8,
   "metadata": {},
   "outputs": [
    {
     "data": {
      "text/plain": [
       "[('the', 'project'),\n",
       " ('project', 'gutenberg'),\n",
       " ('gutenberg', 'ebook'),\n",
       " ('ebook', 'of'),\n",
       " ('of', 'democracy')]"
      ]
     },
     "execution_count": 8,
     "metadata": {},
     "output_type": "execute_result"
    }
   ],
   "source": [
    "bigram_words = final_lines.map(lambda x: x.split()).flatMap(lambda x:bigram(x))\n",
    "bigram_words.take(5)"
   ]
  },
  {
   "cell_type": "markdown",
   "metadata": {
    "collapsed": true
   },
   "source": [
    "### Generate key value pairs with each bigram as key and 1 as value"
   ]
  },
  {
   "cell_type": "code",
   "execution_count": 9,
   "metadata": {},
   "outputs": [
    {
     "data": {
      "text/plain": [
       "[(('the', 'project'), 1),\n",
       " (('project', 'gutenberg'), 1),\n",
       " (('gutenberg', 'ebook'), 1),\n",
       " (('ebook', 'of'), 1),\n",
       " (('of', 'democracy'), 1)]"
      ]
     },
     "execution_count": 9,
     "metadata": {},
     "output_type": "execute_result"
    }
   ],
   "source": [
    "pairs =bigram_words.map(lambda x: (x, 1))\n",
    "pairs.take(5)"
   ]
  },
  {
   "cell_type": "markdown",
   "metadata": {
    "collapsed": true
   },
   "source": [
    "### Create freq rdd from pairs rdd with reducebykey method to get key(bigram_words), value(frequency) pair"
   ]
  },
  {
   "cell_type": "code",
   "execution_count": 10,
   "metadata": {},
   "outputs": [
    {
     "data": {
      "text/plain": [
       "[(('project', 'gutenberg'), 25),\n",
       " (('gutenberg', 'ebook'), 4),\n",
       " (('ebook', 'of'), 2),\n",
       " (('in', 'america'), 192),\n",
       " (('(of', '2)'), 3)]"
      ]
     },
     "execution_count": 10,
     "metadata": {},
     "output_type": "execute_result"
    }
   ],
   "source": [
    "freq =pairs.reduceByKey(lambda x, y:x+y)\n",
    "freq.take(5)"
   ]
  },
  {
   "cell_type": "markdown",
   "metadata": {},
   "source": [
    "###  1. No of  unique bigrams"
   ]
  },
  {
   "cell_type": "code",
   "execution_count": 11,
   "metadata": {},
   "outputs": [
    {
     "name": "stdout",
     "output_type": "stream",
     "text": [
      "71033\n"
     ]
    }
   ],
   "source": [
    "no_unique_bigrams = freq.count()\n",
    "print(no_unique_bigrams)"
   ]
  },
  {
   "cell_type": "markdown",
   "metadata": {},
   "source": [
    "### 2. List the top ten most frequent bigrams and their counts\n",
    "Create sorted_bigrams with sortBy method to get key(bigram_words), value(frequency) pair in Descending order"
   ]
  },
  {
   "cell_type": "code",
   "execution_count": 12,
   "metadata": {},
   "outputs": [],
   "source": [
    "sorted_bigrams = freq.sortBy(lambda x :x[1], ascending=False)"
   ]
  },
  {
   "cell_type": "code",
   "execution_count": 13,
   "metadata": {},
   "outputs": [
    {
     "data": {
      "text/plain": [
       "[(('of', 'the'), 3916),\n",
       " (('in', 'the'), 1540),\n",
       " (('to', 'the'), 1035),\n",
       " (('and', 'the'), 783),\n",
       " (('it', 'is'), 608),\n",
       " (('by', 'the'), 520),\n",
       " (('the', 'united'), 476),\n",
       " (('of', 'a'), 459),\n",
       " (('united', 'states'), 451),\n",
       " (('to', 'be'), 440)]"
      ]
     },
     "execution_count": 13,
     "metadata": {},
     "output_type": "execute_result"
    }
   ],
   "source": [
    "top10_bigrams =sc.parallelize(sorted_bigrams.take(10))\n",
    "top10_bigrams.collect()"
   ]
  },
  {
   "cell_type": "markdown",
   "metadata": {},
   "source": [
    "### 3. Cumulative frequency of the top ten bigrams"
   ]
  },
  {
   "cell_type": "code",
   "execution_count": 14,
   "metadata": {},
   "outputs": [
    {
     "name": "stdout",
     "output_type": "stream",
     "text": [
      "0.058128498763888495\n"
     ]
    }
   ],
   "source": [
    "sum_top10_bigrams = top10_bigrams.values().sum()\n",
    "total_bigrams =sorted_bigrams.values().sum()\n",
    "freq_top10_bigrams = float(sum_top10_bigrams)/total_bigrams\n",
    "print(freq_top10_bigrams)"
   ]
  },
  {
   "cell_type": "markdown",
   "metadata": {},
   "source": [
    "### 4.  Number of bigrams that appear only once"
   ]
  },
  {
   "cell_type": "code",
   "execution_count": 15,
   "metadata": {},
   "outputs": [
    {
     "name": "stdout",
     "output_type": "stream",
     "text": [
      "51947\n"
     ]
    }
   ],
   "source": [
    "freq_one = freq.filter(lambda x: x[1] == 1).count()\n",
    "print(freq_one)"
   ]
  },
  {
   "cell_type": "code",
   "execution_count": null,
   "metadata": {},
   "outputs": [],
   "source": []
  }
 ],
 "metadata": {
  "kernelspec": {
   "display_name": "Python 3",
   "language": "python",
   "name": "python3"
  },
  "language_info": {
   "codemirror_mode": {
    "name": "ipython",
    "version": 3
   },
   "file_extension": ".py",
   "mimetype": "text/x-python",
   "name": "python",
   "nbconvert_exporter": "python",
   "pygments_lexer": "ipython3",
   "version": "3.6.6"
  }
 },
 "nbformat": 4,
 "nbformat_minor": 1
}
